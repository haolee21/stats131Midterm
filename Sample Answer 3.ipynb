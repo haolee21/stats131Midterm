{
 "cells": [
  {
   "cell_type": "markdown",
   "metadata": {},
   "source": [
    "# Question 3: Education Level and income\n",
    "Guiding question: Is the Education level of the head of the household related to household income? "
   ]
  },
  {
   "cell_type": "code",
   "execution_count": 1,
   "metadata": {},
   "outputs": [],
   "source": [
    "import numpy as np\n",
    "import pandas as pd\n",
    "from matplotlib import pyplot as plt\n",
    "import seaborn as sns\n",
    "bmx = pd.read_sas('BMX_I.XPT')\n",
    "demo = pd.read_sas('DEMO_I.XPT')\n",
    "#combine two tables together\n",
    "finalData = pd.merge(left = demo,right = bmx,on = 'SEQN')\n"
   ]
  },
  {
   "cell_type": "markdown",
   "metadata": {},
   "source": [
    "Use the variable: INDHHIN2 for household income. Use DMDHREDU for the education level of the head of the household.\n",
    "\n",
    "Filter to adults aged 20 and older."
   ]
  },
  {
   "cell_type": "code",
   "execution_count": 2,
   "metadata": {},
   "outputs": [],
   "source": [
    "adultData = finalData.loc[finalData.loc[:,'RIDAGEYR']>=20]\n",
    "adultData=adultData.dropna(how='any',subset=['INDHHIN2','DMDHREDU'])"
   ]
  },
  {
   "cell_type": "markdown",
   "metadata": {},
   "source": [
    "Remove people who are missing, refused to answer, or didn’t know the household income or education levels.\n",
    "\n",
    "Remove household income categories 12 (\\$20,000 and over) and 13 (under \\$20,000) as they don’t quite fit in with the other income categories."
   ]
  },
  {
   "cell_type": "code",
   "execution_count": 3,
   "metadata": {},
   "outputs": [],
   "source": [
    "adultData=adultData.loc[adultData.loc[:,'INDHHIN2']!=77.0]\n",
    "adultData=adultData.loc[adultData.loc[:,'INDHHIN2']!=99.0]\n",
    "adultData=adultData.loc[adultData.loc[:,'INDHHIN2']!=12.0]\n",
    "adultData=adultData.loc[adultData.loc[:,'INDHHIN2']!=13.0]\n",
    "adultData=adultData.loc[adultData.loc[:,'DMDHREDU']!=7.0]\n",
    "adultData=adultData.loc[adultData.loc[:,'DMDHREDU']!=9.0]"
   ]
  },
  {
   "cell_type": "markdown",
   "metadata": {},
   "source": [
    "Print the shape of the resulting data before the next step"
   ]
  },
  {
   "cell_type": "code",
   "execution_count": 4,
   "metadata": {
    "scrolled": true
   },
   "outputs": [
    {
     "name": "stdout",
     "output_type": "stream",
     "text": [
      "(4720, 72)\n"
     ]
    }
   ],
   "source": [
    "print(adultData.shape)"
   ]
  },
  {
   "cell_type": "markdown",
   "metadata": {},
   "source": [
    "Summarize and display the data to explore the relationship between education level and income."
   ]
  },
  {
   "cell_type": "code",
   "execution_count": 5,
   "metadata": {},
   "outputs": [
    {
     "data": {
      "text/plain": [
       "Text(0,0.5,'Income')"
      ]
     },
     "execution_count": 5,
     "metadata": {},
     "output_type": "execute_result"
    },
    {
     "data": {
      "image/png": "[encoded data removed]",
      "text/plain": [
       "<matplotlib.figure.Figure at 0x19fabd8e4e0>"
      ]
     },
     "metadata": {},
     "output_type": "display_data"
    }
   ],
   "source": [
    "adultData = adultData.loc[:,['INDHHIN2','DMDHREDU','SEQN']]\n",
    "countData = adultData.groupby(['DMDHREDU']).mean()\n",
    "\n",
    "test = adultData.groupby('DMDHREDU')['INDHHIN2'].mean()\n",
    "\n",
    "\n",
    "plt.plot(countData.index,countData.loc[:,'INDHHIN2'])\n",
    "plt.xlabel('Education')\n",
    "plt.ylabel('Income')"
   ]
  },
  {
   "cell_type": "code",
   "execution_count": 6,
   "metadata": {},
   "outputs": [
    {
     "name": "stdout",
     "output_type": "stream",
     "text": [
      "INDHHIN2  1.0   2.0   3.0   4.0   5.0   6.0   7.0   8.0   9.0   10.0  14.0  \\\n",
      "DMDHREDU                                                                     \n",
      "1.0         23    51    80    62    63    76    56    34    16    13    17   \n",
      "2.0         25    43    62    48    49    79    71    50    38    29    27   \n",
      "3.0         31    45    80    97    73   155   102   109    63    50    74   \n",
      "4.0         24    42    78    92   109   183   173   159   115    81   166   \n",
      "5.0         12    15    21    36    38    79    95    70    96    87   202   \n",
      "\n",
      "INDHHIN2  15.0  \n",
      "DMDHREDU        \n",
      "1.0         18  \n",
      "2.0         24  \n",
      "3.0        117  \n",
      "4.0        211  \n",
      "5.0        486  \n"
     ]
    },
    {
     "data": {
      "image/png": "[encoded data removed]",
      "text/plain": [
       "<matplotlib.figure.Figure at 0x19fb2297898>"
      ]
     },
     "metadata": {},
     "output_type": "display_data"
    }
   ],
   "source": [
    "countData = adultData.pivot_table(index = 'DMDHREDU', columns = 'INDHHIN2', values = 'SEQN',aggfunc = 'count')\n",
    "countData.plot(kind='bar')\n",
    "print(countData)"
   ]
  },
  {
   "cell_type": "code",
   "execution_count": null,
   "metadata": {},
   "outputs": [],
   "source": []
  }
 ],
 "metadata": {
  "kernelspec": {
   "display_name": "Python 3",
   "language": "python",
   "name": "python3"
  },
  "language_info": {
   "codemirror_mode": {
    "name": "ipython",
    "version": 3
   },
   "file_extension": ".py",
   "mimetype": "text/x-python",
   "name": "python",
   "nbconvert_exporter": "python",
   "pygments_lexer": "ipython3",
   "version": "3.6.4"
  }
 },
 "nbformat": 4,
 "nbformat_minor": 2
}
