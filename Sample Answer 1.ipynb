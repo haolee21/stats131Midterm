{
 "cells": [
  {
   "cell_type": "markdown",
   "metadata": {},
   "source": [
    "# Question 1: Baby Weights\n",
    "Do baby boys weight more than baby firls on average? "
   ]
  },
  {
   "cell_type": "code",
   "execution_count": 1,
   "metadata": {},
   "outputs": [],
   "source": [
    "import numpy as np\n",
    "import pandas as pd\n",
    "from matplotlib import pyplot as plt\n",
    "import seaborn as sns\n",
    "bmx = pd.read_sas('BMX_I.XPT')\n",
    "demo = pd.read_sas('DEMO_I.XPT')\n",
    "#combine two tables together\n",
    "finalData = pd.merge(left = demo,right = bmx,on = 'SEQN')    #what if there are NaNs? "
   ]
  },
  {
   "cell_type": "markdown",
   "metadata": {},
   "source": [
    "1. Calculate and display the mean weight of baby boys for each month, from month 0 to 12.\n",
    "You’ll produce 13 values, one for each month"
   ]
  },
  {
   "cell_type": "code",
   "execution_count": 2,
   "metadata": {},
   "outputs": [],
   "source": [
    "boyWeightMean=[]\n",
    "girlWeightMean=[]\n",
    "for i in range(13): #This looks very redundant, you may come out with something more elegant\n",
    "    if(i!=0):\n",
    "        tempBoyWeight = finalData.loc[(finalData.loc[:,'RIAGENDR']==1)&(finalData.loc[:,'RIDAGEMN']==i)]\n",
    "        #print(type(tempBoyWeight))\n",
    "        tempGirlWeight = finalData.loc[(finalData.loc[:,'RIAGENDR']==2)&(finalData.loc[:,'RIDAGEMN']==i)]\n",
    "        #print(type(tempGirlWeight))\n",
    "        boyWeightMean.append(tempBoyWeight.loc[:,'BMXWT'].mean())\n",
    "        #print(type(tempBoyWeight.loc[:,'BMXWT']))\n",
    "        girlWeightMean.append(tempGirlWeight.loc[:,'BMXWT'].mean())\n",
    "    else:\n",
    "        tempBoyWeight = finalData.loc[(finalData.loc[:,'RIAGENDR']==1)&(finalData.loc[:,'RIDAGEMN']<i+1)]\n",
    "        tempGirlWeight = finalData.loc[(finalData.loc[:,'RIAGENDR']==2)&(finalData.loc[:,'RIDAGEMN']<i+1)]\n",
    "        boyWeightMean.append(tempBoyWeight.loc[:,'BMXWT'].mean())\n",
    "        girlWeightMean.append(tempGirlWeight.loc[:,'BMXWT'].mean())\n",
    "        \n",
    "month = np.arange(13)\n",
    "boyWeightMean = np.array(boyWeightMean)\n",
    "girlWeightMean = np.array(girlWeightMean)\n",
    "\n"
   ]
  },
  {
   "cell_type": "markdown",
   "metadata": {},
   "source": [
    " Calculate and display the mean weight of baby boys for each month, from month 0 to 12.\n",
    "You’ll produce 13 values, one for each month."
   ]
  },
  {
   "cell_type": "code",
   "execution_count": 3,
   "metadata": {},
   "outputs": [
    {
     "name": "stdout",
     "output_type": "stream",
     "text": [
      "Average weight of boys:\n",
      "\n",
      "[ 4.79444444  5.79166667  6.66111111  7.          7.795       8.525\n",
      "  8.26363636  9.06111111  9.32222222 10.09375    10.36428571  9.96363636\n",
      " 10.52307692]\n"
     ]
    },
    {
     "data": {
      "text/html": [
       "<div>\n",
       "<style scoped>\n",
       "    .dataframe tbody tr th:only-of-type {\n",
       "        vertical-align: middle;\n",
       "    }\n",
       "\n",
       "    .dataframe tbody tr th {\n",
       "        vertical-align: top;\n",
       "    }\n",
       "\n",
       "    .dataframe thead th {\n",
       "        text-align: right;\n",
       "    }\n",
       "</style>\n",
       "<table border=\"1\" class=\"dataframe\">\n",
       "  <thead>\n",
       "    <tr style=\"text-align: right;\">\n",
       "      <th></th>\n",
       "      <th>age</th>\n",
       "      <th>weight</th>\n",
       "    </tr>\n",
       "  </thead>\n",
       "  <tbody>\n",
       "    <tr>\n",
       "      <th>0</th>\n",
       "      <td>0</td>\n",
       "      <td>4.794444</td>\n",
       "    </tr>\n",
       "    <tr>\n",
       "      <th>1</th>\n",
       "      <td>1</td>\n",
       "      <td>5.791667</td>\n",
       "    </tr>\n",
       "    <tr>\n",
       "      <th>2</th>\n",
       "      <td>2</td>\n",
       "      <td>6.661111</td>\n",
       "    </tr>\n",
       "    <tr>\n",
       "      <th>3</th>\n",
       "      <td>3</td>\n",
       "      <td>7.000000</td>\n",
       "    </tr>\n",
       "    <tr>\n",
       "      <th>4</th>\n",
       "      <td>4</td>\n",
       "      <td>7.795000</td>\n",
       "    </tr>\n",
       "    <tr>\n",
       "      <th>5</th>\n",
       "      <td>5</td>\n",
       "      <td>8.525000</td>\n",
       "    </tr>\n",
       "    <tr>\n",
       "      <th>6</th>\n",
       "      <td>6</td>\n",
       "      <td>8.263636</td>\n",
       "    </tr>\n",
       "    <tr>\n",
       "      <th>7</th>\n",
       "      <td>7</td>\n",
       "      <td>9.061111</td>\n",
       "    </tr>\n",
       "    <tr>\n",
       "      <th>8</th>\n",
       "      <td>8</td>\n",
       "      <td>9.322222</td>\n",
       "    </tr>\n",
       "    <tr>\n",
       "      <th>9</th>\n",
       "      <td>9</td>\n",
       "      <td>10.093750</td>\n",
       "    </tr>\n",
       "    <tr>\n",
       "      <th>10</th>\n",
       "      <td>10</td>\n",
       "      <td>10.364286</td>\n",
       "    </tr>\n",
       "    <tr>\n",
       "      <th>11</th>\n",
       "      <td>11</td>\n",
       "      <td>9.963636</td>\n",
       "    </tr>\n",
       "    <tr>\n",
       "      <th>12</th>\n",
       "      <td>12</td>\n",
       "      <td>10.523077</td>\n",
       "    </tr>\n",
       "  </tbody>\n",
       "</table>\n",
       "</div>"
      ],
      "text/plain": [
       "    age     weight\n",
       "0     0   4.794444\n",
       "1     1   5.791667\n",
       "2     2   6.661111\n",
       "3     3   7.000000\n",
       "4     4   7.795000\n",
       "5     5   8.525000\n",
       "6     6   8.263636\n",
       "7     7   9.061111\n",
       "8     8   9.322222\n",
       "9     9  10.093750\n",
       "10   10  10.364286\n",
       "11   11   9.963636\n",
       "12   12  10.523077"
      ]
     },
     "execution_count": 3,
     "metadata": {},
     "output_type": "execute_result"
    }
   ],
   "source": [
    "print('Average weight of boys:\\n')\n",
    "print(boyWeightMean)\n",
    "boyDf = pd.DataFrame({'weight':boyWeightMean,'age':month})\n",
    "boyDf"
   ]
  },
  {
   "cell_type": "markdown",
   "metadata": {},
   "source": [
    " Calculate and display the mean weight of baby girls for each month, from month 0 to 12"
   ]
  },
  {
   "cell_type": "code",
   "execution_count": 4,
   "metadata": {},
   "outputs": [
    {
     "name": "stdout",
     "output_type": "stream",
     "text": [
      "Average weight of girls:\n",
      "\n",
      "[4.50833333 5.45714286 5.7125     6.55384615 7.05294118 7.64705882\n",
      " 8.00526316 8.19090909 8.3037037  9.24375    9.06666667 9.1\n",
      " 9.75714286]\n"
     ]
    },
    {
     "data": {
      "text/html": [
       "<div>\n",
       "<style scoped>\n",
       "    .dataframe tbody tr th:only-of-type {\n",
       "        vertical-align: middle;\n",
       "    }\n",
       "\n",
       "    .dataframe tbody tr th {\n",
       "        vertical-align: top;\n",
       "    }\n",
       "\n",
       "    .dataframe thead th {\n",
       "        text-align: right;\n",
       "    }\n",
       "</style>\n",
       "<table border=\"1\" class=\"dataframe\">\n",
       "  <thead>\n",
       "    <tr style=\"text-align: right;\">\n",
       "      <th></th>\n",
       "      <th>age</th>\n",
       "      <th>weight</th>\n",
       "    </tr>\n",
       "  </thead>\n",
       "  <tbody>\n",
       "    <tr>\n",
       "      <th>0</th>\n",
       "      <td>0</td>\n",
       "      <td>4.508333</td>\n",
       "    </tr>\n",
       "    <tr>\n",
       "      <th>1</th>\n",
       "      <td>1</td>\n",
       "      <td>5.457143</td>\n",
       "    </tr>\n",
       "    <tr>\n",
       "      <th>2</th>\n",
       "      <td>2</td>\n",
       "      <td>5.712500</td>\n",
       "    </tr>\n",
       "    <tr>\n",
       "      <th>3</th>\n",
       "      <td>3</td>\n",
       "      <td>6.553846</td>\n",
       "    </tr>\n",
       "    <tr>\n",
       "      <th>4</th>\n",
       "      <td>4</td>\n",
       "      <td>7.052941</td>\n",
       "    </tr>\n",
       "    <tr>\n",
       "      <th>5</th>\n",
       "      <td>5</td>\n",
       "      <td>7.647059</td>\n",
       "    </tr>\n",
       "    <tr>\n",
       "      <th>6</th>\n",
       "      <td>6</td>\n",
       "      <td>8.005263</td>\n",
       "    </tr>\n",
       "    <tr>\n",
       "      <th>7</th>\n",
       "      <td>7</td>\n",
       "      <td>8.190909</td>\n",
       "    </tr>\n",
       "    <tr>\n",
       "      <th>8</th>\n",
       "      <td>8</td>\n",
       "      <td>8.303704</td>\n",
       "    </tr>\n",
       "    <tr>\n",
       "      <th>9</th>\n",
       "      <td>9</td>\n",
       "      <td>9.243750</td>\n",
       "    </tr>\n",
       "    <tr>\n",
       "      <th>10</th>\n",
       "      <td>10</td>\n",
       "      <td>9.066667</td>\n",
       "    </tr>\n",
       "    <tr>\n",
       "      <th>11</th>\n",
       "      <td>11</td>\n",
       "      <td>9.100000</td>\n",
       "    </tr>\n",
       "    <tr>\n",
       "      <th>12</th>\n",
       "      <td>12</td>\n",
       "      <td>9.757143</td>\n",
       "    </tr>\n",
       "  </tbody>\n",
       "</table>\n",
       "</div>"
      ],
      "text/plain": [
       "    age    weight\n",
       "0     0  4.508333\n",
       "1     1  5.457143\n",
       "2     2  5.712500\n",
       "3     3  6.553846\n",
       "4     4  7.052941\n",
       "5     5  7.647059\n",
       "6     6  8.005263\n",
       "7     7  8.190909\n",
       "8     8  8.303704\n",
       "9     9  9.243750\n",
       "10   10  9.066667\n",
       "11   11  9.100000\n",
       "12   12  9.757143"
      ]
     },
     "execution_count": 4,
     "metadata": {},
     "output_type": "execute_result"
    }
   ],
   "source": [
    "print('Average weight of girls:\\n')\n",
    "print(girlWeightMean)\n",
    "girlDf = pd.DataFrame({'weight':girlWeightMean,'age':month})\n",
    "girlDf"
   ]
  },
  {
   "cell_type": "markdown",
   "metadata": {},
   "source": [
    " Calculate and display the difference between the mean weights of boys and girls for each\n",
    "month."
   ]
  },
  {
   "cell_type": "code",
   "execution_count": 5,
   "metadata": {},
   "outputs": [
    {
     "name": "stdout",
     "output_type": "stream",
     "text": [
      "Average weight difference (boy-girls):\n",
      "\n",
      "[0.28611111 0.33452381 0.94861111 0.44615385 0.74205882 0.87794118\n",
      " 0.25837321 0.87020202 1.01851852 0.85       1.29761905 0.86363636\n",
      " 0.76593407]\n"
     ]
    }
   ],
   "source": [
    "print('Average weight difference (boy-girls):\\n')\n",
    "print(boyWeightMean-girlWeightMean)"
   ]
  },
  {
   "cell_type": "markdown",
   "metadata": {},
   "source": [
    "Make a line plot showing two lines: one for boys’ mean weights months 0-12, and one\n",
    "for girls’ mean weights 0-12 (in a different color). The month will go on the x-axis, and the mean\n",
    "weight will go on the y-axis.\n"
   ]
  },
  {
   "cell_type": "code",
   "execution_count": 6,
   "metadata": {
    "scrolled": true
   },
   "outputs": [
    {
     "data": {
      "image/png": "[encoded data removed]",
      "text/plain": [
       "<matplotlib.figure.Figure at 0x1f58be9e358>"
      ]
     },
     "metadata": {},
     "output_type": "display_data"
    }
   ],
   "source": [
    "l1,=plt.plot(month,boyWeightMean,label='Boy')\n",
    "l2,=plt.plot(month,girlWeightMean,label='Girl')\n",
    "l3,=plt.plot(month,boyWeightMean-girlWeightMean,label='difference')\n",
    "plt.legend(loc='right')\n",
    "plt.xlabel('Age(Month)')\n",
    "plt.ylabel('Weight(kg)')\n",
    "plt.title('Baby weight (0-12 month)')\n",
    "plt.show()"
   ]
  },
  {
   "cell_type": "markdown",
   "metadata": {},
   "source": [
    " (with seaborn) Make a scatterplot with linear regression lines for the baby boys’\n",
    "relationship between age and wt, and the baby girls’ relationship between age and wt."
   ]
  },
  {
   "cell_type": "code",
   "execution_count": 7,
   "metadata": {},
   "outputs": [
    {
     "data": {
      "text/plain": [
       "Text(0.5,1,'Body Weight of Male Baby')"
      ]
     },
     "execution_count": 7,
     "metadata": {},
     "output_type": "execute_result"
    },
    {
     "data": {
      "image/png": "[encoded data removed]",
      "text/plain": [
       "<matplotlib.figure.Figure at 0x1f58be9e978>"
      ]
     },
     "metadata": {},
     "output_type": "display_data"
    }
   ],
   "source": [
    "tempPlot = sns.regplot(x=month,y=boyWeightMean)\n",
    "tempPlot.set_xlabel('Age(Month)')\n",
    "tempPlot.set_ylabel('Weight(kg)')\n",
    "tempPlot.set_title('Body Weight of Male Baby')\n"
   ]
  },
  {
   "cell_type": "code",
   "execution_count": 8,
   "metadata": {},
   "outputs": [
    {
     "data": {
      "text/plain": [
       "Text(0.5,1,'Body Weight of Female Baby')"
      ]
     },
     "execution_count": 8,
     "metadata": {},
     "output_type": "execute_result"
    },
    {
     "data": {
      "image/png": "[encoded data removed]",
      "text/plain": [
       "<matplotlib.figure.Figure at 0x1f58c040dd8>"
      ]
     },
     "metadata": {},
     "output_type": "display_data"
    }
   ],
   "source": [
    "tempPlot = sns.regplot(x=month,y=girlWeightMean)\n",
    "tempPlot.set_xlabel('Age(Month)')\n",
    "tempPlot.set_ylabel('Weight(kg)')\n",
    "tempPlot.set_title('Body Weight of Female Baby')"
   ]
  },
  {
   "cell_type": "code",
   "execution_count": null,
   "metadata": {},
   "outputs": [],
   "source": []
  }
 ],
 "metadata": {
  "kernelspec": {
   "display_name": "Python 3",
   "language": "python",
   "name": "python3"
  },
  "language_info": {
   "codemirror_mode": {
    "name": "ipython",
    "version": 3
   },
   "file_extension": ".py",
   "mimetype": "text/x-python",
   "name": "python",
   "nbconvert_exporter": "python",
   "pygments_lexer": "ipython3",
   "version": "3.6.4"
  }
 },
 "nbformat": 4,
 "nbformat_minor": 2
}
