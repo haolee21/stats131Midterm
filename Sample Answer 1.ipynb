{
 "cells": [
  {
   "cell_type": "markdown",
   "metadata": {},
   "source": [
    "# Question 1: Baby Weights\n",
    "Do baby boys weight more than baby firls on average? "
   ]
  },
  {
   "cell_type": "code",
   "execution_count": 48,
   "metadata": {},
   "outputs": [],
   "source": [
    "import numpy as np\n",
    "import pandas as pd\n",
    "from matplotlib import pyplot as plt\n",
    "import seaborn as sns\n",
    "bmx = pd.read_sas('BMX_I.XPT')\n",
    "demo = pd.read_sas('DEMO_I.XPT')\n",
    "#combine two tables together\n",
    "finalData = pd.merge(left = demo,right = bmx,on = 'SEQN')    #what if there are NaNs? "
   ]
  },
  {
   "cell_type": "markdown",
   "metadata": {},
   "source": [
    "1. Calculate and display the mean weight of baby boys for each month, from month 0 to 12.\n",
    "You’ll produce 13 values, one for each month"
   ]
  },
  {
   "cell_type": "markdown",
   "metadata": {},
   "source": [
    "p.s.: I did not know the 'RIDAGEMN' is well classified, thus we can use groupby directly, it is much faster."
   ]
  },
  {
   "cell_type": "code",
   "execution_count": 49,
   "metadata": {},
   "outputs": [],
   "source": [
    "boyWeightMean = finalData.loc[(finalData.loc[:,'RIAGENDR']==1)&(finalData.loc[:,'RIDAGEMN']<13)].groupby(['RIDAGEMN'])['BMXWT'].mean()\n",
    "girlWeightMean = finalData.loc[(finalData.loc[:,'RIAGENDR']==2)&(finalData.loc[:,'RIDAGEMN']<13)].groupby(['RIDAGEMN'])['BMXWT'].mean()\n",
    "month = np.arange(13)"
   ]
  },
  {
   "cell_type": "markdown",
   "metadata": {},
   "source": [
    " Calculate and display the mean weight of baby boys for each month, from month 0 to 12.\n",
    "You’ll produce 13 values, one for each month."
   ]
  },
  {
   "cell_type": "code",
   "execution_count": 50,
   "metadata": {},
   "outputs": [
    {
     "name": "stdout",
     "output_type": "stream",
     "text": [
      "Average weight of boys:\n",
      "\n",
      "RIDAGEMN\n",
      "5.397605e-79     4.794444\n",
      "1.000000e+00     5.791667\n",
      "2.000000e+00     6.661111\n",
      "3.000000e+00     7.000000\n",
      "4.000000e+00     7.795000\n",
      "5.000000e+00     8.525000\n",
      "6.000000e+00     8.263636\n",
      "7.000000e+00     9.061111\n",
      "8.000000e+00     9.322222\n",
      "9.000000e+00    10.093750\n",
      "1.000000e+01    10.364286\n",
      "1.100000e+01     9.963636\n",
      "1.200000e+01    10.523077\n",
      "Name: BMXWT, dtype: float64\n"
     ]
    },
    {
     "data": {
      "text/html": [
       "<div>\n",
       "<style scoped>\n",
       "    .dataframe tbody tr th:only-of-type {\n",
       "        vertical-align: middle;\n",
       "    }\n",
       "\n",
       "    .dataframe tbody tr th {\n",
       "        vertical-align: top;\n",
       "    }\n",
       "\n",
       "    .dataframe thead th {\n",
       "        text-align: right;\n",
       "    }\n",
       "</style>\n",
       "<table border=\"1\" class=\"dataframe\">\n",
       "  <thead>\n",
       "    <tr style=\"text-align: right;\">\n",
       "      <th></th>\n",
       "      <th>age</th>\n",
       "      <th>weight</th>\n",
       "    </tr>\n",
       "    <tr>\n",
       "      <th>RIDAGEMN</th>\n",
       "      <th></th>\n",
       "      <th></th>\n",
       "    </tr>\n",
       "  </thead>\n",
       "  <tbody>\n",
       "    <tr>\n",
       "      <th>5.397605e-79</th>\n",
       "      <td>0</td>\n",
       "      <td>4.794444</td>\n",
       "    </tr>\n",
       "    <tr>\n",
       "      <th>1.000000e+00</th>\n",
       "      <td>1</td>\n",
       "      <td>5.791667</td>\n",
       "    </tr>\n",
       "    <tr>\n",
       "      <th>2.000000e+00</th>\n",
       "      <td>2</td>\n",
       "      <td>6.661111</td>\n",
       "    </tr>\n",
       "    <tr>\n",
       "      <th>3.000000e+00</th>\n",
       "      <td>3</td>\n",
       "      <td>7.000000</td>\n",
       "    </tr>\n",
       "    <tr>\n",
       "      <th>4.000000e+00</th>\n",
       "      <td>4</td>\n",
       "      <td>7.795000</td>\n",
       "    </tr>\n",
       "    <tr>\n",
       "      <th>5.000000e+00</th>\n",
       "      <td>5</td>\n",
       "      <td>8.525000</td>\n",
       "    </tr>\n",
       "    <tr>\n",
       "      <th>6.000000e+00</th>\n",
       "      <td>6</td>\n",
       "      <td>8.263636</td>\n",
       "    </tr>\n",
       "    <tr>\n",
       "      <th>7.000000e+00</th>\n",
       "      <td>7</td>\n",
       "      <td>9.061111</td>\n",
       "    </tr>\n",
       "    <tr>\n",
       "      <th>8.000000e+00</th>\n",
       "      <td>8</td>\n",
       "      <td>9.322222</td>\n",
       "    </tr>\n",
       "    <tr>\n",
       "      <th>9.000000e+00</th>\n",
       "      <td>9</td>\n",
       "      <td>10.093750</td>\n",
       "    </tr>\n",
       "    <tr>\n",
       "      <th>1.000000e+01</th>\n",
       "      <td>10</td>\n",
       "      <td>10.364286</td>\n",
       "    </tr>\n",
       "    <tr>\n",
       "      <th>1.100000e+01</th>\n",
       "      <td>11</td>\n",
       "      <td>9.963636</td>\n",
       "    </tr>\n",
       "    <tr>\n",
       "      <th>1.200000e+01</th>\n",
       "      <td>12</td>\n",
       "      <td>10.523077</td>\n",
       "    </tr>\n",
       "  </tbody>\n",
       "</table>\n",
       "</div>"
      ],
      "text/plain": [
       "              age     weight\n",
       "RIDAGEMN                    \n",
       "5.397605e-79    0   4.794444\n",
       "1.000000e+00    1   5.791667\n",
       "2.000000e+00    2   6.661111\n",
       "3.000000e+00    3   7.000000\n",
       "4.000000e+00    4   7.795000\n",
       "5.000000e+00    5   8.525000\n",
       "6.000000e+00    6   8.263636\n",
       "7.000000e+00    7   9.061111\n",
       "8.000000e+00    8   9.322222\n",
       "9.000000e+00    9  10.093750\n",
       "1.000000e+01   10  10.364286\n",
       "1.100000e+01   11   9.963636\n",
       "1.200000e+01   12  10.523077"
      ]
     },
     "execution_count": 50,
     "metadata": {},
     "output_type": "execute_result"
    }
   ],
   "source": [
    "print('Average weight of boys:\\n')\n",
    "print(boyWeightMean)\n",
    "boyDf = pd.DataFrame({'weight':boyWeightMean,'age':month})\n",
    "boyDf"
   ]
  },
  {
   "cell_type": "markdown",
   "metadata": {},
   "source": [
    " Calculate and display the mean weight of baby girls for each month, from month 0 to 12"
   ]
  },
  {
   "cell_type": "code",
   "execution_count": 51,
   "metadata": {},
   "outputs": [
    {
     "name": "stdout",
     "output_type": "stream",
     "text": [
      "Average weight of girls:\n",
      "\n",
      "RIDAGEMN\n",
      "5.397605e-79    4.508333\n",
      "1.000000e+00    5.457143\n",
      "2.000000e+00    5.712500\n",
      "3.000000e+00    6.553846\n",
      "4.000000e+00    7.052941\n",
      "5.000000e+00    7.647059\n",
      "6.000000e+00    8.005263\n",
      "7.000000e+00    8.190909\n",
      "8.000000e+00    8.303704\n",
      "9.000000e+00    9.243750\n",
      "1.000000e+01    9.066667\n",
      "1.100000e+01    9.100000\n",
      "1.200000e+01    9.757143\n",
      "Name: BMXWT, dtype: float64\n"
     ]
    },
    {
     "data": {
      "text/html": [
       "<div>\n",
       "<style scoped>\n",
       "    .dataframe tbody tr th:only-of-type {\n",
       "        vertical-align: middle;\n",
       "    }\n",
       "\n",
       "    .dataframe tbody tr th {\n",
       "        vertical-align: top;\n",
       "    }\n",
       "\n",
       "    .dataframe thead th {\n",
       "        text-align: right;\n",
       "    }\n",
       "</style>\n",
       "<table border=\"1\" class=\"dataframe\">\n",
       "  <thead>\n",
       "    <tr style=\"text-align: right;\">\n",
       "      <th></th>\n",
       "      <th>age</th>\n",
       "      <th>weight</th>\n",
       "    </tr>\n",
       "    <tr>\n",
       "      <th>RIDAGEMN</th>\n",
       "      <th></th>\n",
       "      <th></th>\n",
       "    </tr>\n",
       "  </thead>\n",
       "  <tbody>\n",
       "    <tr>\n",
       "      <th>5.397605e-79</th>\n",
       "      <td>0</td>\n",
       "      <td>4.508333</td>\n",
       "    </tr>\n",
       "    <tr>\n",
       "      <th>1.000000e+00</th>\n",
       "      <td>1</td>\n",
       "      <td>5.457143</td>\n",
       "    </tr>\n",
       "    <tr>\n",
       "      <th>2.000000e+00</th>\n",
       "      <td>2</td>\n",
       "      <td>5.712500</td>\n",
       "    </tr>\n",
       "    <tr>\n",
       "      <th>3.000000e+00</th>\n",
       "      <td>3</td>\n",
       "      <td>6.553846</td>\n",
       "    </tr>\n",
       "    <tr>\n",
       "      <th>4.000000e+00</th>\n",
       "      <td>4</td>\n",
       "      <td>7.052941</td>\n",
       "    </tr>\n",
       "    <tr>\n",
       "      <th>5.000000e+00</th>\n",
       "      <td>5</td>\n",
       "      <td>7.647059</td>\n",
       "    </tr>\n",
       "    <tr>\n",
       "      <th>6.000000e+00</th>\n",
       "      <td>6</td>\n",
       "      <td>8.005263</td>\n",
       "    </tr>\n",
       "    <tr>\n",
       "      <th>7.000000e+00</th>\n",
       "      <td>7</td>\n",
       "      <td>8.190909</td>\n",
       "    </tr>\n",
       "    <tr>\n",
       "      <th>8.000000e+00</th>\n",
       "      <td>8</td>\n",
       "      <td>8.303704</td>\n",
       "    </tr>\n",
       "    <tr>\n",
       "      <th>9.000000e+00</th>\n",
       "      <td>9</td>\n",
       "      <td>9.243750</td>\n",
       "    </tr>\n",
       "    <tr>\n",
       "      <th>1.000000e+01</th>\n",
       "      <td>10</td>\n",
       "      <td>9.066667</td>\n",
       "    </tr>\n",
       "    <tr>\n",
       "      <th>1.100000e+01</th>\n",
       "      <td>11</td>\n",
       "      <td>9.100000</td>\n",
       "    </tr>\n",
       "    <tr>\n",
       "      <th>1.200000e+01</th>\n",
       "      <td>12</td>\n",
       "      <td>9.757143</td>\n",
       "    </tr>\n",
       "  </tbody>\n",
       "</table>\n",
       "</div>"
      ],
      "text/plain": [
       "              age    weight\n",
       "RIDAGEMN                   \n",
       "5.397605e-79    0  4.508333\n",
       "1.000000e+00    1  5.457143\n",
       "2.000000e+00    2  5.712500\n",
       "3.000000e+00    3  6.553846\n",
       "4.000000e+00    4  7.052941\n",
       "5.000000e+00    5  7.647059\n",
       "6.000000e+00    6  8.005263\n",
       "7.000000e+00    7  8.190909\n",
       "8.000000e+00    8  8.303704\n",
       "9.000000e+00    9  9.243750\n",
       "1.000000e+01   10  9.066667\n",
       "1.100000e+01   11  9.100000\n",
       "1.200000e+01   12  9.757143"
      ]
     },
     "execution_count": 51,
     "metadata": {},
     "output_type": "execute_result"
    }
   ],
   "source": [
    "print('Average weight of girls:\\n')\n",
    "print(girlWeightMean)\n",
    "girlDf = pd.DataFrame({'weight':girlWeightMean,'age':month})\n",
    "girlDf"
   ]
  },
  {
   "cell_type": "markdown",
   "metadata": {},
   "source": [
    " Calculate and display the difference between the mean weights of boys and girls for each\n",
    "month."
   ]
  },
  {
   "cell_type": "code",
   "execution_count": 52,
   "metadata": {},
   "outputs": [
    {
     "name": "stdout",
     "output_type": "stream",
     "text": [
      "Average weight difference (boy-girls):\n",
      "\n",
      "RIDAGEMN\n",
      "5.397605e-79    0.286111\n",
      "1.000000e+00    0.334524\n",
      "2.000000e+00    0.948611\n",
      "3.000000e+00    0.446154\n",
      "4.000000e+00    0.742059\n",
      "5.000000e+00    0.877941\n",
      "6.000000e+00    0.258373\n",
      "7.000000e+00    0.870202\n",
      "8.000000e+00    1.018519\n",
      "9.000000e+00    0.850000\n",
      "1.000000e+01    1.297619\n",
      "1.100000e+01    0.863636\n",
      "1.200000e+01    0.765934\n",
      "Name: BMXWT, dtype: float64\n"
     ]
    }
   ],
   "source": [
    "print('Average weight difference (boy-girls):\\n')\n",
    "print(boyWeightMean-girlWeightMean)"
   ]
  },
  {
   "cell_type": "markdown",
   "metadata": {},
   "source": [
    "Make a line plot showing two lines: one for boys’ mean weights months 0-12, and one\n",
    "for girls’ mean weights 0-12 (in a different color). The month will go on the x-axis, and the mean\n",
    "weight will go on the y-axis.\n"
   ]
  },
  {
   "cell_type": "code",
   "execution_count": 53,
   "metadata": {
    "scrolled": true
   },
   "outputs": [
    {
     "data": {
      "image/png": "[encoded data removed]",
      "text/plain": [
       "<matplotlib.figure.Figure at 0x2597b045f28>"
      ]
     },
     "metadata": {},
     "output_type": "display_data"
    }
   ],
   "source": [
    "l1,=plt.plot(month,boyWeightMean,label='Boy')\n",
    "l2,=plt.plot(month,girlWeightMean,label='Girl')\n",
    "l3,=plt.plot(month,boyWeightMean-girlWeightMean,label='difference')\n",
    "plt.legend(loc='right')\n",
    "plt.xlabel('Age(Month)')\n",
    "plt.ylabel('Weight(kg)')\n",
    "plt.title('Baby weight (0-12 month)')\n",
    "plt.show()"
   ]
  },
  {
   "cell_type": "markdown",
   "metadata": {},
   "source": [
    " (with seaborn) Make a scatterplot with linear regression lines for the baby boys’\n",
    "relationship between age and wt, and the baby girls’ relationship between age and wt."
   ]
  },
  {
   "cell_type": "code",
   "execution_count": 54,
   "metadata": {},
   "outputs": [
    {
     "data": {
      "text/plain": [
       "Text(0.5,1,'Body Weight of Male Baby')"
      ]
     },
     "execution_count": 54,
     "metadata": {},
     "output_type": "execute_result"
    },
    {
     "data": {
      "image/png": "[encoded data removed]",
      "text/plain": [
       "<matplotlib.figure.Figure at 0x2597b7d8400>"
      ]
     },
     "metadata": {},
     "output_type": "display_data"
    }
   ],
   "source": [
    "tempPlot = sns.regplot(x=month,y=boyWeightMean)\n",
    "tempPlot.set_xlabel('Age(Month)')\n",
    "tempPlot.set_ylabel('Weight(kg)')\n",
    "tempPlot.set_title('Body Weight of Male Baby')\n"
   ]
  },
  {
   "cell_type": "code",
   "execution_count": 55,
   "metadata": {},
   "outputs": [
    {
     "data": {
      "text/plain": [
       "Text(0.5,1,'Body Weight of Female Baby')"
      ]
     },
     "execution_count": 55,
     "metadata": {},
     "output_type": "execute_result"
    },
    {
     "data": {
      "image/png": "[encoded data removed]",
      "text/plain": [
       "<matplotlib.figure.Figure at 0x2597c0dfc50>"
      ]
     },
     "metadata": {},
     "output_type": "display_data"
    }
   ],
   "source": [
    "tempPlot = sns.regplot(x=month,y=girlWeightMean)\n",
    "tempPlot.set_xlabel('Age(Month)')\n",
    "tempPlot.set_ylabel('Weight(kg)')\n",
    "tempPlot.set_title('Body Weight of Female Baby')"
   ]
  },
  {
   "cell_type": "code",
   "execution_count": null,
   "metadata": {},
   "outputs": [],
   "source": []
  }
 ],
 "metadata": {
  "kernelspec": {
   "display_name": "Python 3",
   "language": "python",
   "name": "python3"
  },
  "language_info": {
   "codemirror_mode": {
    "name": "ipython",
    "version": 3
   },
   "file_extension": ".py",
   "mimetype": "text/x-python",
   "name": "python",
   "nbconvert_exporter": "python",
   "pygments_lexer": "ipython3",
   "version": "3.6.4"
  }
 },
 "nbformat": 4,
 "nbformat_minor": 2
}
