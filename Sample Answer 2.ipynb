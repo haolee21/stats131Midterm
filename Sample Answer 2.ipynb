{
 "cells": [
  {
   "cell_type": "markdown",
   "metadata": {},
   "source": [
    "# Question 2: Height vs leg length vs arm length\n",
    " What’s the relationship between height and leg length and arm length. Does this\n",
    "relationship change with age?\n",
    "\n"
   ]
  },
  {
   "cell_type": "code",
   "execution_count": 64,
   "metadata": {},
   "outputs": [],
   "source": [
    "import numpy as np\n",
    "import pandas as pd\n",
    "from matplotlib import pyplot as plt\n",
    "import seaborn as sns\n",
    "bmx = pd.read_sas('BMX_I.XPT')\n",
    "demo = pd.read_sas('DEMO_I.XPT')\n",
    "#combine two tables together\n",
    "finalData = pd.merge(left = demo,right = bmx,on = 'SEQN')\n",
    "adultData = finalData.loc[finalData.loc[:,'RIDAGEYR']>=20]"
   ]
  },
  {
   "cell_type": "markdown",
   "metadata": {},
   "source": [
    "#### For all adults aged 20 and up, who have all three measurements of height, upper leg length, and upperarm length:\n",
    "What is the correlation between standing height and upper leg length?"
   ]
  },
  {
   "cell_type": "code",
   "execution_count": 65,
   "metadata": {},
   "outputs": [],
   "source": [
    "adultData_temp=adultData.dropna(how='any',subset=['BMXLEG','BMXHT','BMXARML'])"
   ]
  },
  {
   "cell_type": "code",
   "execution_count": 66,
   "metadata": {},
   "outputs": [
    {
     "name": "stdout",
     "output_type": "stream",
     "text": [
      "The correlation is: 0.7870663123395181\n"
     ]
    }
   ],
   "source": [
    "# I create a adultData_temp because I am not sure how many NaN each column has\n",
    "\n",
    "print('The correlation is:',adultData.loc[:,'BMXLEG'].corr(adultData.loc[:,'BMXHT']))"
   ]
  },
  {
   "cell_type": "markdown",
   "metadata": {},
   "source": [
    "What is the correlation between standing height and upper arm length?"
   ]
  },
  {
   "cell_type": "code",
   "execution_count": 67,
   "metadata": {},
   "outputs": [
    {
     "name": "stdout",
     "output_type": "stream",
     "text": [
      "The correlation is: 0.7954967098037544\n"
     ]
    }
   ],
   "source": [
    "#adultData_temp=adultData.dropna(how='any',subset=['BMXARML','BMXHT'])\n",
    "print('The correlation is:',adultData.loc[:,'BMXARML'].corr(adultData.loc[:,'BMXHT']))"
   ]
  },
  {
   "cell_type": "markdown",
   "metadata": {},
   "source": [
    "What is the correlation between upper leg length and upper arm length?"
   ]
  },
  {
   "cell_type": "code",
   "execution_count": 68,
   "metadata": {},
   "outputs": [
    {
     "name": "stdout",
     "output_type": "stream",
     "text": [
      "The correlation is: 0.6301246425751609\n"
     ]
    }
   ],
   "source": [
    "#adultData_temp=adultData.dropna(how='any',subset=['BMXARML','BMXLEG'])\n",
    "print('The correlation is:',adultData.loc[:,'BMXARML'].corr(adultData.loc[:,'BMXLEG']))"
   ]
  },
  {
   "cell_type": "markdown",
   "metadata": {},
   "source": [
    "Make adult age groups by decade: i.e. adults aged 20-29.9, adults aged 30-39.9, … adults aged\n",
    "70-79.9, adults aged 80+ (7 groups total). \n",
    "\n",
    "For each age group, calculate the mean of the three values.\n"
   ]
  },
  {
   "cell_type": "code",
   "execution_count": 69,
   "metadata": {},
   "outputs": [],
   "source": [
    "mean = pd.cut(adultData.loc[:,'RIDAGEYR'], bins = np.arange(20,99, 10), right = False)\n",
    "meanDF = pd.DataFrame({'age_group':mean})\n",
    "adult_group = pd.merge(left=adultData,right=meanDF,right_index=True,left_index=True)\n",
    "adult_mean = adult_group.groupby(['age_group'])['BMXLEG','BMXHT','BMXARML'].mean()\n",
    "age = ['20-29.9','30-39.9','40-49.9','50-59.9','60-69.9','70-79.9','80+']"
   ]
  },
  {
   "cell_type": "code",
   "execution_count": null,
   "metadata": {},
   "outputs": [],
   "source": [
    "\n"
   ]
  },
  {
   "cell_type": "markdown",
   "metadata": {},
   "source": [
    "We want to make a plot with three lines showing the relationship between the age\n",
    "decade and the mean height, leg length, and arm length\n",
    "\n",
    "However, because leg length and arm length are similar in scale, but height is not,\n",
    "create an ‘adjusted height’ column which is the mean height minus 128 cm.\n",
    "\n",
    "Plot three lines: adjusted height, leg length, arm length. \n",
    "\n",
    "The x-axis will be the age decade, and the y-axis will be the mean measurement for each\n",
    "age group"
   ]
  },
  {
   "cell_type": "code",
   "execution_count": 70,
   "metadata": {},
   "outputs": [
    {
     "data": {
      "image/png": "[encoded data removed]",
      "text/plain": [
       "<matplotlib.figure.Figure at 0x19108ca91d0>"
      ]
     },
     "metadata": {},
     "output_type": "display_data"
    }
   ],
   "source": [
    "height_adj = np.array(adult_mean.loc[:,'BMXHT'])-128\n",
    "l1,=plt.plot(age,adult_mean.loc[:,'BMXARML'],label='Arm Lengh')\n",
    "l2,=plt.plot(age,height_adj,label='Height')\n",
    "l3,=plt.plot(age,adult_mean.loc[:,'BMXLEG'],label='Leg Length')\n",
    "plt.legend(loc='upper right')\n",
    "plt.xlabel('Age(year)')\n",
    "plt.show()\n"
   ]
  },
  {
   "cell_type": "code",
   "execution_count": null,
   "metadata": {},
   "outputs": [],
   "source": []
  }
 ],
 "metadata": {
  "kernelspec": {
   "display_name": "Python 3",
   "language": "python",
   "name": "python3"
  },
  "language_info": {
   "codemirror_mode": {
    "name": "ipython",
    "version": 3
   },
   "file_extension": ".py",
   "mimetype": "text/x-python",
   "name": "python",
   "nbconvert_exporter": "python",
   "pygments_lexer": "ipython3",
   "version": "3.6.4"
  }
 },
 "nbformat": 4,
 "nbformat_minor": 2
}
